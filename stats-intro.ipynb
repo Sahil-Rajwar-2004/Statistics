{
 "cells": [
  {
   "cell_type": "markdown",
   "id": "6e1074e4-5001-4021-9b26-cabb1a400b41",
   "metadata": {},
   "source": [
    "# Statistics\n",
    "\n",
    "#### It is the study and manipulation of data, including ways to gather, review, analyze, and draw conclusions from data \n",
    "\n",
    "##### there are two types of Statistics\n",
    "\n",
    "* Discriptive\n",
    "* Inferential"
   ]
  },
  {
   "cell_type": "markdown",
   "id": "333da4b0-2837-48d4-b4e8-216893fbd3e4",
   "metadata": {},
   "source": [
    "# What is Discriptive Statistics?\n",
    "\n",
    "#### Descriptive statistics is a means of describing features of a data set by generating summaries about data samples. It's often depicted as a summary of data shown that explains the contents of data.\n",
    "\n",
    "### FOR EXAMPLE:\n",
    "#### A population census may include descriptive statistics regarding the ratio of men and women in a specific city."
   ]
  },
  {
   "cell_type": "markdown",
   "id": "f04f95d5-27c1-4dcd-a1a5-1c56c6779b23",
   "metadata": {},
   "source": [
    "# What is Inferential Statistics?\n",
    "\n",
    "#### Describe the many ways in which statistics derived from observations on samples from study populations can be used to deduce whether or not those populations are truly different."
   ]
  },
  {
   "cell_type": "markdown",
   "id": "61844102-3b70-45d7-a6e7-2e16792b7eb3",
   "metadata": {},
   "source": [
    "# What is Central Tendency?\n",
    "\n",
    "#### A central tendency is a central or typical value for a probability distribution.\n",
    "\n",
    "### EXAMPLE: Mean, Median, Mode, Arithmatic Mean, Geometric Mean, Harmonic Mean, etc."
   ]
  },
  {
   "cell_type": "code",
   "execution_count": 10,
   "id": "9ace7fa0-1a6e-4e74-a5e8-a863f00d51e2",
   "metadata": {
    "tags": []
   },
   "outputs": [
    {
     "name": "stdout",
     "output_type": "stream",
     "text": [
      "4.5\n"
     ]
    }
   ],
   "source": [
    "\"\"\"\n",
    "    let's say we have data 3,2,8,6,0,1,6,9,5,7,4 and represent the data with variable x then,\n",
    "    mean(x) = sum(x)/length(x)\n",
    "    it gives an average value from a given data \n",
    "\"\"\"\n",
    "data = [3,2,8,6,0,1,9,5,7,4]\n",
    "print(sum(data)/len(data))"
   ]
  },
  {
   "cell_type": "code",
   "execution_count": 15,
   "id": "fde7e5d9-2015-4d79-9f63-d079a5b4ad3b",
   "metadata": {
    "tags": []
   },
   "outputs": [
    {
     "name": "stdout",
     "output_type": "stream",
     "text": [
      "4.5\n"
     ]
    }
   ],
   "source": [
    "\"\"\"\n",
    "    now if we take similar data for calculating the median then,\n",
    "    median(x) = middle value of sorted(x)\n",
    "    it gives the mid value from a given data\n",
    "    NOTE: data should be sorted!\n",
    "\"\"\"\n",
    "def quick_sort(data):\n",
    "    if len(data) <= 1:\n",
    "        return data\n",
    "    flag = data[len(data)//2]\n",
    "    left = [x for x in data if x < flag]\n",
    "    mid = [x for x in data if x == flag]\n",
    "    right = [x for x in data if x > flag]\n",
    "    \n",
    "    return quick_sort(left) + mid + quick_sort(right)\n",
    "\n",
    "def median(data):\n",
    "    data = quick_sort(data)\n",
    "    mid = len(data)//2\n",
    "    if len(data)%2 == 0:\n",
    "        return (data[mid-1]+data[mid])/2\n",
    "    else:\n",
    "        return data[mid]\n",
    "\n",
    "print(median(data))"
   ]
  },
  {
   "cell_type": "code",
   "execution_count": 7,
   "id": "c4f85c50-b286-4dc5-82e6-f48eea31d279",
   "metadata": {
    "tags": []
   },
   "outputs": [
    {
     "name": "stdout",
     "output_type": "stream",
     "text": [
      "[5, 6, 3, 4, 0, 8, 3, 2, 10, 0, 6]\n",
      "[6, 3, 0]\n"
     ]
    }
   ],
   "source": [
    "\"\"\"\n",
    "    mode is use to find the repetative number or item from the given data\n",
    "\"\"\"\n",
    "import random\n",
    "\n",
    "array = []\n",
    "for i in range(0,11):\n",
    "    x = random.randint(0,10)\n",
    "    array.append(x)\n",
    "    \n",
    "print(array)\n",
    "def mode(data):\n",
    "    freq = {}\n",
    "    for item in data:\n",
    "        if item in freq:\n",
    "            freq[item] += 1\n",
    "        else:\n",
    "            freq[item] = 1\n",
    "    \n",
    "    max_freq = max(freq.values())\n",
    "    mode_list = [x for x,y in freq.items() if y == max_freq]\n",
    "    \n",
    "    if len(mode_list) == len(set(data)):\n",
    "        return None\n",
    "    \n",
    "    if len(mode_list) == 1:\n",
    "        return mode_list[0]\n",
    "    \n",
    "    return mode_list\n",
    "\n",
    "print(mode(array))"
   ]
  },
  {
   "cell_type": "code",
   "execution_count": 8,
   "id": "67bf8d11-31c7-4e33-b695-53aa932be979",
   "metadata": {},
   "outputs": [
    {
     "name": "stdout",
     "output_type": "stream",
     "text": [
      "362880.0\n"
     ]
    }
   ],
   "source": [
    "\"\"\"\n",
    "    Geometric-Mean is defined as the nth root of the product of n numbers\n",
    "\"\"\"\n",
    "def geometric_mean(data):\n",
    "    prod = 1\n",
    "    for i in data:\n",
    "        prod *= i\n",
    "    return prod**1/len(data)\n",
    "\n",
    "print(geometric_mean([1,2,3,4,5,6,7,8,9,10]))"
   ]
  },
  {
   "cell_type": "code",
   "execution_count": 11,
   "id": "84a63257-83a8-4a6b-b5e5-b7f854b7f0fc",
   "metadata": {
    "tags": []
   },
   "outputs": [
    {
     "name": "stdout",
     "output_type": "stream",
     "text": [
      "3.414171521474055\n"
     ]
    }
   ],
   "source": [
    "\"\"\"\n",
    "    The harmonic mean is defined as the reciprocal of the arithmetic mean of the reciprocals of n numbers\n",
    "\"\"\"\n",
    "def harmonic_mean(data):\n",
    "    total = 0\n",
    "    for i in data:\n",
    "        total += 1/i\n",
    "    return len(data)/total\n",
    "\n",
    "print(harmonic_mean([1,2,3,4,5,6,7,8,9,10]))"
   ]
  },
  {
   "cell_type": "code",
   "execution_count": null,
   "id": "8bcde3e6-5c08-4d77-b0d5-e9b2070b151e",
   "metadata": {},
   "outputs": [],
   "source": []
  }
 ],
 "metadata": {
  "kernelspec": {
   "display_name": "Python 3 (ipykernel)",
   "language": "python",
   "name": "python3"
  },
  "language_info": {
   "codemirror_mode": {
    "name": "ipython",
    "version": 3
   },
   "file_extension": ".py",
   "mimetype": "text/x-python",
   "name": "python",
   "nbconvert_exporter": "python",
   "pygments_lexer": "ipython3",
   "version": "3.11.1"
  }
 },
 "nbformat": 4,
 "nbformat_minor": 5
}
